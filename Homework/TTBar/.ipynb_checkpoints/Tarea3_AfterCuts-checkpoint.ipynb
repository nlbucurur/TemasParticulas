{
 "cells": [
  {
   "cell_type": "markdown",
   "metadata": {},
   "source": [
    "# An introductional notebook to HEP analysis in C++ - Solution homework 3\n",
    "\n",
    "<p>In this notebook you can find an easy set of commands that show some basic computing techniques commonly used in High Energy Physics (HEP) analyzes.</p>\n",
    "\n",
    "<p>It also shows how to create an histogram, fill it and draw it. Moreover it is an introduction to [ROOT](https://root.cern.ch/) too. The final output is a plot with the number of leptons.</p>\n",
    "\n",
    "Based on ATLAS opendata notebooks (http://opendata.atlas.cern/release/2020/documentation/notebooks/intro.html)\n"
   ]
  },
  {
   "cell_type": "markdown",
   "metadata": {},
   "source": [
    "The library used is [ROOT](https://root.cern.ch/), a scientific data analysis software framework that provides a large set of functionalities needed to deal with big data processing, statistical analysis, visualisation and storage.\n",
    "\n",
    "<p>At first we have to include several helpers that will support our analysis:</p>"
   ]
  },
  {
   "cell_type": "code",
   "execution_count": 1,
   "metadata": {},
   "outputs": [],
   "source": [
    "#include <iostream>\n",
    "#include <string>\n",
    "#include <stdio.h>"
   ]
  },
  {
   "cell_type": "markdown",
   "metadata": {},
   "source": [
    "Next we have to open the data that we want to analyze. As described above the data is stored in a _*.root_ file. This is a root file containing tracks and calorimeter clusters"
   ]
  },
  {
   "cell_type": "code",
   "execution_count": 2,
   "metadata": {},
   "outputs": [],
   "source": [
    "TFile *file = TFile::Open(\"Data_8TeV.root\"); "
   ]
  },
  {
   "cell_type": "markdown",
   "metadata": {},
   "source": [
    "The next step is to define a tree named _tree_ to get the data out of the _*.root_ file. The tree in this root file is called \"JetRecoTree\". We will then print the contents of the tree to find the names of the variables. "
   ]
  },
  {
   "cell_type": "code",
   "execution_count": null,
   "metadata": {},
   "outputs": [],
   "source": [
    "TTree *tree = (TTree*) file->Get(\"mini\");\n",
    "tree->Print()"
   ]
  },
  {
   "cell_type": "markdown",
   "metadata": {},
   "source": [
    "Activate variables "
   ]
  },
  {
   "cell_type": "code",
   "execution_count": null,
   "metadata": {},
   "outputs": [],
   "source": [
    "Bool_t e_trig;\n",
    "Bool_t mu_trig;\n",
    "Bool_t good_vtx;\n",
    "UInt_t lep_n;\n",
    "UInt_t jet_n;\n",
    "Float_t MET;\n",
    "Float_t MET_phi;\n",
    "\n",
    "Float_t lep_pt[10];  \n",
    "Float_t lep_eta[10];  \n",
    "Float_t lep_phi[10];  \n",
    "Float_t lep_E[10];  \n",
    "Int_t lep_type[10];  \n",
    "Float_t lep_ptcone30[10];\n",
    "Float_t lep_etcone20[10];\n",
    "\n",
    "Float_t jet_pt[10];\n",
    "Float_t jet_eta[10];\n",
    "Float_t jet_jvf[10];\n",
    "Float_t jet_mv1[10];\n",
    "\n",
    "float evtw = 1;\n",
    "\n",
    "tree->SetBranchAddress(\"trigE\", &e_trig);\n",
    "tree->SetBranchAddress(\"trigM\", &mu_trig);\n",
    "tree->SetBranchAddress(\"hasGoodVertex\", &good_vtx);\n",
    "tree->SetBranchAddress(\"lep_n\", &lep_n);\n",
    "tree->SetBranchAddress(\"jet_n\", &jet_n);\n",
    "tree->SetBranchAddress(\"met_et\", &MET);\n",
    "tree->SetBranchAddress(\"met_phi\", &MET_phi);\n",
    "\n",
    "tree->SetBranchAddress(\"lep_pt\", &lep_pt);\n",
    "tree->SetBranchAddress(\"lep_eta\", &lep_eta);\n",
    "tree->SetBranchAddress(\"lep_phi\", &lep_phi);\n",
    "tree->SetBranchAddress(\"lep_E\", &lep_E);\n",
    "tree->SetBranchAddress(\"lep_type\", &lep_type);\n",
    "tree->SetBranchAddress(\"lep_ptcone30\", &lep_ptcone30);\n",
    "tree->SetBranchAddress(\"lep_etcone20\", &lep_etcone20);\n",
    "\n",
    "tree->SetBranchAddress(\"jet_pt\", &jet_pt);\n",
    "tree->SetBranchAddress(\"jet_eta\", &jet_eta);\n",
    "tree->SetBranchAddress(\"jet_jvf\", &jet_jvf);\n",
    "tree->SetBranchAddress(\"jet_MV1\", &jet_mv1);"
   ]
  },
  {
   "cell_type": "markdown",
   "metadata": {},
   "source": [
    "Create Canvas"
   ]
  },
  {
   "cell_type": "code",
   "execution_count": null,
   "metadata": {},
   "outputs": [],
   "source": [
    "TCanvas *canvas = new TCanvas(\"Canvas\",\"\",800,600);"
   ]
  },
  {
   "cell_type": "markdown",
   "metadata": {},
   "source": [
    "Create histograms: Leading jet pT and all jets pT "
   ]
  },
  {
   "cell_type": "code",
   "execution_count": null,
   "metadata": {},
   "outputs": [],
   "source": [
    "TH1F *cutflow = new TH1F(\"Cutflow\",\"Cutflow; Cut; Events\",\n",
    "                         10,\n",
    "                         0,\n",
    "                         10);\n",
    "\n",
    "// Leptons\n",
    "\n",
    "TH1F *hist_lep_pt = new TH1F(\"Lepton pt\",\"Lepton pT; pT (GeV); Events\",\n",
    "                             10,\n",
    "                             0,\n",
    "                             500000);\n",
    "\n",
    "TH1F *hist_lep_ptcone30 = new TH1F(\"Lepton ptCone30 / lep pt\",\n",
    "                                   \"Lepton pTcone30 / Lepton pt; ptcone30; Events\",\n",
    "                                   10,\n",
    "                                   0,\n",
    "                                   10);\n",
    "\n",
    "TH1F *hist_lep_etcone20 = new TH1F(\"Lepton etCone20 / lep pt\",\n",
    "                                   \"Lepton eTcone20 / Lepton pt; etcone20; Events\",\n",
    "                                   10,\n",
    "                                   -2,\n",
    "                                   2);\n",
    "\n",
    "TH1F *hist_lep_eta = new TH1F(\"Lepton eta\",\n",
    "                                   \"Lepton eta; eta; Events\",\n",
    "                                   10,\n",
    "                                   -5,\n",
    "                                   5);\n",
    "\n",
    "// Jets\n",
    "\n",
    "//number of jets\n",
    "TH1F *hist_njets = new TH1F(\"Number of jets\",\"n-jets; Jet multiplicity; Events\",\n",
    "                            10,\n",
    "                            0,\n",
    "                            10);\n",
    "\n",
    "//number of b-jets\n",
    "TH1F *hist_nbjets = new TH1F(\"Number of b-jets\",\"n-bjets; Jet multiplicity; Events\",\n",
    "                            10,\n",
    "                            0,\n",
    "                            10);\n",
    "\n",
    "TH1F *hist_jet_pt = new TH1F(\"Jet pt\",\"Jet pT; pT (GeV); Events\",\n",
    "                             10,\n",
    "                             0,\n",
    "                             500000);\n",
    "\n",
    "TH1F *hist_jet_eta = new TH1F(\"Jet eta\",\"Jet eta; eta; Events\",\n",
    "                             10,\n",
    "                             -5,\n",
    "                             5);\n",
    "// JVF pileup\n",
    "TH1F *hist_jet_jvf = new TH1F(\"Jet JVF\",\"Jet JVF; JVF; Events\",\n",
    "                             10,\n",
    "                             -1,\n",
    "                             1);\n",
    "// MV1 bjets\n",
    "TH1F *hist_jet_mv1 = new TH1F(\"Jet MV1\",\"Jet MV1; MV1; Events\",\n",
    "                             10,\n",
    "                             0,\n",
    "                             1);\n",
    "\n",
    "// MET\n",
    "\n",
    "TH1F *hist_MET = new TH1F(\"MET \",\"MET; MET; Events\",\n",
    "                          200,\n",
    "                          0,\n",
    "                          300000);\n",
    "\n",
    "// Masa transversa del boson W -> mt(w)\n",
    "\n",
    "TH1F *hist_mTW = new TH1F(\"mT(W)\",\"mT(W); mT(W); Events\",\n",
    "                          200,\n",
    "                          0,\n",
    "                          300000);"
   ]
  },
  {
   "cell_type": "markdown",
   "metadata": {},
   "source": [
    "Loop and fill histograms"
   ]
  },
  {
   "cell_type": "code",
   "execution_count": null,
   "metadata": {},
   "outputs": [],
   "source": [
    "int nentries, nbytes, i;\n",
    "nentries = (Int_t)tree->GetEntries();\n",
    "\n",
    "int cut1 = 0;\n",
    "int cut2 = 0;\n",
    "int cut3 = 0;\n",
    "int cut4 = 0;\n",
    "int cut5 = 0;\n",
    "int cut6 = 0;\n",
    "int cut7 = 0;\n",
    "int cut8 = 0;\n",
    "\n",
    "\n",
    "for (i = 0; i < nentries; i++)\n",
    "{   \n",
    "    nbytes = tree->GetEntry(i);   \n",
    "\n",
    "    //First cut: Good vertex\n",
    "    if(!good_vtx) continue;\n",
    "    cut1++;\n",
    "    cutflow->Fill(1);\n",
    "\n",
    "    //Second cut: Trigger\n",
    "    if(!e_trig && !mu_trig) continue;\n",
    "    cut2++;\n",
    "    cutflow->Fill(2);\n",
    "        \n",
    "    // Preselection of good leptons                                                                                \n",
    "    int n_mu=0;\n",
    "    int n_el=0;\n",
    "    int n_lep=0;\n",
    "    int good_lep=0;\n",
    "\n",
    "    //Loop over leptons\n",
    "    for(unsigned int i=0; i<lep_n; i++){\n",
    "        \n",
    "        if( lep_pt[i] < 25000.) continue;\n",
    "                \n",
    "        if( lep_ptcone30[i]/lep_pt[i] > 0.15 ) continue;\n",
    "                \n",
    "        if( lep_etcone20[i]/lep_pt[i] > 0.15 ) continue;\n",
    "                \n",
    "        if( lep_type [i]==13 && TMath::Abs(lep_eta[i]) < 2.5 ){\n",
    "            n_mu++;\n",
    "            good_lep=i;\n",
    "        }\n",
    "        \n",
    "        \n",
    "        /*\n",
    "        To complete: Add electrons and extract the index for the good lepton\n",
    "        */\n",
    "        if( lep_type [i]==11 && TMath::Abs(lep_eta[i]) < 2.47 &&\n",
    "           (TMath::Abs(lep_eta[i]) < 1.37 || TMath::Abs(lep_eta[i]) > 1.52)){\n",
    "            n_el++;\n",
    "            good_lep=i;\n",
    "            }\n",
    "    }\n",
    "    \n",
    "    n_lep = n_mu + n_el; // Total number of leptons\n",
    "    \n",
    "    \n",
    "     //Select events with only 1 good lepton and fill the cutflow histogram \n",
    "    //Example:\n",
    "    //Third cut (one good lepton):\n",
    "    if(n_lep!=1) continue;\n",
    "    cutflow->Fill(3); \n",
    "    cut3++;\n",
    "  \n",
    "    \n",
    "    int n_jets=0;\n",
    "    int n_bjets=0;\n",
    "\n",
    "    //Fourth cut: At least 4 jets\n",
    "    if(jet_n<4) continue; \n",
    "    cutflow->Fill(4); \n",
    "    cut4++;\n",
    "    \n",
    "\n",
    "    for(unsigned int j=0; j<jet_n; j++){    \n",
    "        \n",
    "        // To complete: apply jet cuts to find the good jets\n",
    "        if(jet_pt[j] < 25000.) continue;\n",
    "        \n",
    "        //Eta cut\n",
    "        if(jet_eta[j] > 2.5) continue;\n",
    "                \n",
    "        // JVF cleaning\n",
    "        if(jet_pt[j] < 50000. && TMath::Abs(jet_eta[j]) < 2.4 && jet_jvf[j] < 0.5) continue;\n",
    "        \n",
    "        n_jets++;\n",
    "        // cut on 0.7892 MV1 and count the number of b-jets\n",
    "        if(jet_mv1[j] < 0.7892) continue;\n",
    "        n_bjets++;\n",
    "        \n",
    "        }\n",
    "    \n",
    "    //Fifth cut: At least 4 good jets\n",
    "    if(n_jets<4) continue; \n",
    "    cutflow->Fill(5); \n",
    "    cut5++;\n",
    "    \n",
    "    //Sixth cut: at least one b-jet\n",
    "    if(n_bjets<2) continue;\n",
    "    cutflow->Fill(6);\n",
    "    cut6++;\n",
    "    \n",
    "    //Seventh cut: MET > 30 GeV\n",
    "    if(MET<30000.) continue;\n",
    "    cutflow->Fill(7);\n",
    "    cut7++;\n",
    "        \n",
    "    // TLorentzVector definitions                                                               \n",
    "    TLorentzVector Lepton  = TLorentzVector();\n",
    "    TLorentzVector  MeT  = TLorentzVector();\n",
    "\n",
    "    //To complete: Lorentz vectors for the lepton and MET. Use SetPtEtaPhiE().\n",
    "    Lepton.SetPtEtaPhiE(\n",
    "        lep_pt[good_lep],\n",
    "        lep_eta[good_lep],\n",
    "        lep_phi[good_lep],\n",
    "        lep_E[good_lep]\n",
    "    );\n",
    "    \n",
    "    MeT.SetPtEtaPhiE(MET,0,MET_phi,MET);\n",
    "\n",
    "    //Calculation of the mTW using TLorentz vectors             \n",
    "    float mTW = sqrt(2*Lepton.Pt()*MeT.Et()*(1-cos(Lepton.DeltaPhi(MeT))));\n",
    "    \n",
    "    //Eight cut: mTW > 30 GeV\n",
    "    if(mTW<30000.) continue;\n",
    "    cutflow->Fill(8);\n",
    "    cut8++;\n",
    "    \n",
    "    \n",
    "    for(unsigned int i=0; i<lep_n; i++){\n",
    "        \n",
    "            hist_lep_pt->Fill(lep_pt[i],WEIGHT);\n",
    "            hist_lep_ptcone30->Fill(lep_ptcone30[i]/lep_pt[i],WEIGHT);\n",
    "            hist_lep_etcone20->Fill(lep_etcone20[i]/lep_pt[i],WEIGHT);\n",
    "            hist_lep_eta->Fill(lep_eta[i],WEIGHT);\n",
    "        }\n",
    "    \n",
    "    \n",
    "    for(unsigned int j=0; j<jet_n; j++){    \n",
    "\n",
    "        hist_jet_pt->Fill(jet_pt[j]);\n",
    "        hist_jet_eta->Fill(jet_eta[j]);\n",
    "        hist_jet_jvf->Fill(jet_jvf[j]);\n",
    "        hist_jet_mv1->Fill(jet_mv1[j]);\n",
    "        \n",
    "    }\n",
    "    \n",
    "        \n",
    "    //Number of jets distribution\n",
    "    hist_njets->Fill(jet_n);\n",
    "    hist_nbjets->Fill(n_bjets);\n",
    "    hist_MET->Fill(MET);\n",
    "    hist_mTW->Fill(mTW);\n",
    "}\n",
    "\n",
    "std::cout << \"Done!\" << std::endl;\n",
    "std::cout << \"All events:\" << nentries << std::endl;\n",
    "std::cout << \"Cut1:\" << cut1 << std::endl;\n",
    "std::cout << \"Cut2:\" << cut2 << std::endl;\n",
    "std::cout << \"Cut3:\" << cut3 << std::endl;\n",
    "std::cout << \"Cut4:\" << cut4 << std::endl;\n",
    "std::cout << \"Cut5:\" << cut5 << std::endl;\n",
    "std::cout << \"Cut6:\" << cut6 << std::endl;\n",
    "std::cout << \"Cut7:\" << cut7 << std::endl;\n",
    "std::cout << \"Cut8:\" << cut8 << std::endl;"
   ]
  },
  {
   "cell_type": "markdown",
   "metadata": {},
   "source": [
    "<p>Draw</p>"
   ]
  },
  {
   "cell_type": "code",
   "execution_count": null,
   "metadata": {},
   "outputs": [],
   "source": [
    "cutflow->SetFillColor(kOrange);\n",
    "cutflow->Draw(\"\");\n",
    "canvas->SetLogy();\n",
    "canvas->Draw();"
   ]
  },
  {
   "cell_type": "code",
   "execution_count": null,
   "metadata": {},
   "outputs": [],
   "source": [
    "hist_njets->SetFillColor(kOrange);\n",
    "hist_njets->Draw();\n",
    "canvas->Draw();"
   ]
  },
  {
   "cell_type": "code",
   "execution_count": null,
   "metadata": {},
   "outputs": [],
   "source": [
    "hist_lep_pt->SetFillColor(kOrange);\n",
    "hist_lep_pt->Draw();\n",
    "canvas->Draw();"
   ]
  },
  {
   "cell_type": "code",
   "execution_count": null,
   "metadata": {},
   "outputs": [],
   "source": [
    "hist_lep_ptcone30->SetFillColor(kOrange);\n",
    "hist_lep_ptcone30->Draw();\n",
    "canvas->Draw();"
   ]
  },
  {
   "cell_type": "code",
   "execution_count": null,
   "metadata": {},
   "outputs": [],
   "source": [
    "hist_lep_etcone20->SetFillColor(kOrange);\n",
    "hist_lep_etcone20->Draw();\n",
    "canvas->Draw();"
   ]
  },
  {
   "cell_type": "code",
   "execution_count": null,
   "metadata": {},
   "outputs": [],
   "source": [
    "hist_lep_eta->SetFillColor(kOrange);\n",
    "hist_lep_eta->Draw();\n",
    "canvas->Draw();"
   ]
  },
  {
   "cell_type": "code",
   "execution_count": null,
   "metadata": {},
   "outputs": [],
   "source": [
    "hist_nbjets->SetFillColor(kOrange);\n",
    "hist_nbjets->Draw();\n",
    "canvas->Draw();"
   ]
  },
  {
   "cell_type": "code",
   "execution_count": null,
   "metadata": {},
   "outputs": [],
   "source": [
    "hist_jet_pt->SetFillColor(kOrange);\n",
    "hist_jet_pt->Draw();\n",
    "canvas->Draw();"
   ]
  },
  {
   "cell_type": "code",
   "execution_count": null,
   "metadata": {},
   "outputs": [],
   "source": [
    "hist_jet_eta->SetFillColor(kOrange);\n",
    "hist_jet_eta->Draw();\n",
    "canvas->Draw();"
   ]
  },
  {
   "cell_type": "code",
   "execution_count": null,
   "metadata": {},
   "outputs": [],
   "source": [
    "hist_jet_jvf->SetFillColor(kOrange);\n",
    "hist_jet_jvf->Draw();\n",
    "canvas->Draw();"
   ]
  },
  {
   "cell_type": "code",
   "execution_count": null,
   "metadata": {},
   "outputs": [],
   "source": [
    "hist_jet_mv1->SetFillColor(kOrange);\n",
    "hist_jet_mv1->Draw();\n",
    "canvas->Draw();"
   ]
  },
  {
   "cell_type": "code",
   "execution_count": null,
   "metadata": {},
   "outputs": [],
   "source": [
    "hist_MET->SetFillColor(kOrange);\n",
    "hist_MET->Draw();\n",
    "canvas->Draw();"
   ]
  },
  {
   "cell_type": "code",
   "execution_count": null,
   "metadata": {},
   "outputs": [],
   "source": [
    "hist_mTW->SetFillColor(kOrange);\n",
    "hist_mTW->Draw();\n",
    "canvas->Draw();"
   ]
  },
  {
   "cell_type": "code",
   "execution_count": null,
   "metadata": {},
   "outputs": [],
   "source": []
  }
 ],
 "metadata": {
  "kernelspec": {
   "display_name": "ROOT C++",
   "language": "c++",
   "name": "root"
  },
  "language_info": {
   "codemirror_mode": "text/x-c++src",
   "file_extension": ".C",
   "mimetype": " text/x-c++src",
   "name": "c++"
  }
 },
 "nbformat": 4,
 "nbformat_minor": 4
}
